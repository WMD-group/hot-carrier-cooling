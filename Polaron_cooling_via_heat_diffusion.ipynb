{
 "cells": [
  {
   "cell_type": "markdown",
   "metadata": {},
   "source": [
    "The work below relates to sections **Hot polaron states** and **Carrier cooling: heat transfer to the lattice** of the 2017 publication _Slow cooling of hot polarons in halide perovskite solar cells_. The notebook was written by Lucy D. Whalley."
   ]
  },
  {
   "cell_type": "code",
   "execution_count": null,
   "metadata": {
    "collapsed": true
   },
   "outputs": [],
   "source": [
    "# import libraries\n",
    "import math\n",
    "import scipy\n",
    "import numpy as np\n",
    "import matplotlib as mpl\n",
    "import matplotlib.pyplot as plt\n",
    "import scipy.integrate as integrate\n",
    "%matplotlib inline"
   ]
  },
  {
   "cell_type": "code",
   "execution_count": null,
   "metadata": {
    "collapsed": true
   },
   "outputs": [],
   "source": [
    "# constants in SI\n",
    "m = 9.10938291E-31 # mass of electron\n",
    "q = 1.60217657E-19 # charge of electron\n",
    "ε = 8.85418782E-12 # permittivity of free space\n",
    "h = 6.62606957E-34 # plancks magical number\n",
    "hbar = 1.054571800E-34 # reduced planck\n",
    "Rydberg = 2.1787E-18 # Rydberg energy (in joules)\n",
    "avogadro = 6.02214179E23\n",
    "\n",
    "# units in SI\n",
    "Å = 1E-10 # m to angstrom\n",
    "k = 1.38064852E-23"
   ]
  },
  {
   "cell_type": "code",
   "execution_count": null,
   "metadata": {
    "collapsed": false
   },
   "outputs": [],
   "source": [
    "# matplotlib parameters\n",
    "mpl.rcParams.update(mpl.rcParamsDefault)\n",
    "mpl.rcParams.update({'font.size': 24})\n",
    "plt.rcParams[\"font.family\"] = \"serif\"\n",
    "mpl.rcParams['axes.linewidth'] = 1 \n",
    "mpl.rcParams['xtick.major.width'] = 1 \n",
    "mpl.rcParams['ytick.major.width'] = 1 "
   ]
  },
  {
   "cell_type": "markdown",
   "metadata": {},
   "source": [
    "### Calculate polaron temperature in CH<sub>3</sub>NH<sub>3</sub>PbI<sub>3</sub> (MAPI) as a function of polaron radius and incoming photon energy\n",
    "\n",
    "- Using polaron theory we have calculated the radius of the polaron (26.8Å). This provides an upper limit as disorder will increase localisation of the charge carrier. \n",
    "- We assume equipartition of the above bandgap energy between electron and hole. Near-UV excitation at 4eV gives a maximum energy of 1.2eV which can be transferred to the polaron.\n",
    "- The heat capacity can be calculated from the bulk phonon density of states\n",
    "\n",
    "The information above is enough to calculate the polaron temperature, as is done below."
   ]
  },
  {
   "cell_type": "code",
   "execution_count": null,
   "metadata": {
    "collapsed": true
   },
   "outputs": [],
   "source": [
    "def polaron_temperature(radius,energy,heat_capacity,lattice_constant):\n",
    "    volume_polaron = (4/3)*math.pi*(radius**3)\n",
    "    volume_one_mole = avogadro*((lattice_constant)**3) \n",
    "    moles = volume_polaron / volume_one_mole\n",
    "    temperature = energy / (heat_capacity*moles)\n",
    "    return temperature # in K measured above bulk temperature"
   ]
  },
  {
   "cell_type": "code",
   "execution_count": null,
   "metadata": {
    "collapsed": false
   },
   "outputs": [],
   "source": [
    "# MAPI lattice constant from neutron diffraction, doi:10.1038/srep35685\n",
    "d = 6.306*Å\n",
    "# MAPI bandgap from experimental (300 K), doi:10.7567/APEX.7.032302\n",
    "ε_g = 1.61\n",
    "# MAPI heat capacity\n",
    "heat_capacity = 1.25 # value calculated from bulk phonon density of states, meV/unit cell/K\n",
    "heat_capacity = (1.25/1000)*q # J/unit cell/K\n",
    "heat_capacity = heat_capacity*avogadro # J/mol/K\n",
    "print(\"heat capacity is %s\"%heat_capacity)\n",
    "\n",
    "photon_energies = [(x - ε_g)*q for x in [1.61,2,3,4]]\n",
    "colours = [\"#d62728\",\"purple\",\"#2ca02c\",\"#1f77b4\"]\n",
    "marker = ['o','v','x','>']\n",
    "## PLOT\n",
    "fig = plt.figure(figsize=(10,10))\n",
    "counter = 0\n",
    "for energy in reversed(photon_energies):\n",
    "    temperature = []\n",
    "    for radius in np.linspace(d,26.8*Å,100):\n",
    "        temperature.append(polaron_temperature(radius,energy/2,heat_capacity,d)) # divide by two as half goes to electron\n",
    "    plt.plot((np.linspace(d,26.8*Å,100))/Å,temperature,label=\"{:.2f}\".format((energy/q)+ε_g),color = colours[counter],marker=marker[counter],markevery=5,markersize=10)\n",
    "    counter += 1\n",
    "plt.xlabel(\"Polaron radius (Å)\")\n",
    "plt.xlim([6.306,26.8])\n",
    "plt.xticks([5,10,15,20,25]) \n",
    "plt.ylabel(\"Temperature above bulk (K)\")\n",
    "plt.legend(loc=(0.17,0.63),frameon=False)\n",
    "plt.text(9,225,\"Excitation energy (eV)\")\n",
    "\n",
    "a = plt.axes(([.57, .32, .3, .3]))\n",
    "counter = 0    \n",
    "for energy in reversed(photon_energies) :\n",
    "    temperature = []\n",
    "    for radius in np.linspace(20*Å,26.8*Å,100):\n",
    "        temperature.append(polaron_temperature(radius,energy/2,heat_capacity,d))\n",
    "    plt.plot((np.linspace(20*Å,26.8*Å,100))/Å,temperature,color = colours[counter],marker=marker[counter], markevery=10)\n",
    "    counter += 1\n",
    "plt.xticks([20,26.8]) \n",
    "plt.ylabel(\"Temperature (K)\",fontsize=16)\n",
    "plt.xlabel(\"Polaron radius (Å)\",fontsize=16)\n",
    "plt.yticks()\n",
    "\n",
    "plt.savefig(\"TempVsRadius.png\",bbox_inches='tight',format=\"png\",dpi=500)"
   ]
  },
  {
   "cell_type": "markdown",
   "metadata": {},
   "source": [
    "### Calculate Polaron temperature as a function of time and material diffusivity\n",
    "\n",
    "- We consider individual phonon quanta being absorbed into isolated hot polarons (low fluence limit)\n",
    "- We consider the polaron as a hot sphere in a continuum of ambient temperature material, this allows us to calculate temperature as a function of time using the classical heat diffusion equation."
   ]
  },
  {
   "cell_type": "code",
   "execution_count": null,
   "metadata": {
    "collapsed": true
   },
   "outputs": [],
   "source": [
    "def crank_diffusion_sphere(initial_temperature,polaron_radius,D,position,time):\n",
    "    # This is the expression for heat diffusion from a hot sphere - taken from Crank's The Mathematics of Diffusion (ISBN: 0198534116)\n",
    "    return 0.5*initial_temperature*(math.erf((polaron_radius+position)/np.sqrt(4*D*time)) + math.erf((polaron_radius-position)/np.sqrt(4*D*time))) - ((initial_temperature/position)*np.sqrt(D*time/math.pi)*(math.exp(-((polaron_radius-position)**2)/(4*D*time))-math.exp(-((polaron_radius+position)**2)/(4*D*time))))"
   ]
  },
  {
   "cell_type": "code",
   "execution_count": null,
   "metadata": {
    "collapsed": true
   },
   "outputs": [],
   "source": [
    "def diffusivity(thermal_conductivity, d, molecular_weight,heat_cap):\n",
    "    # diffusivity = thermal_conductivity / (density*heat capacity)\n",
    "    density = (molecular_weight/avogadro) / (d**3) # g/m^3 \n",
    "    heat_capacity_g = heat_capacity / molecular_weight # convert heat capacity to J/g/K\n",
    "    return thermal_conductivity / (density*heat_capacity_g) # m^2/s"
   ]
  },
  {
   "cell_type": "code",
   "execution_count": null,
   "metadata": {
    "collapsed": true
   },
   "outputs": [],
   "source": [
    "## polaron properties\n",
    "polaron_radius = 26.8*Å\n",
    "initial_temperature = 3 # temperature for a polaron in MAPI with a radius of 26.8Å, excited by 1.2eV\n",
    "time_steps = np.logspace(-15,-8,10000)"
   ]
  },
  {
   "cell_type": "code",
   "execution_count": null,
   "metadata": {
    "collapsed": false
   },
   "outputs": [],
   "source": [
    "## MAPI\n",
    "d = 6.306*Å # m\n",
    "molecular_weight = 619.98 # g/mole\n",
    "heat_capacity = 120 # J/mol/k, see calculation above\n",
    "thermal_conductivity = 0.05 # W.m-1.k-1, taken from https://doi.org/10.1103/PhysRevB.94.220301\n",
    "D = diffusivity(thermal_conductivity,d,molecular_weight,heat_capacity)\n",
    "print (\"Diffusivity is %E\"%D)\n",
    "\n",
    "temp_MAPI = []\n",
    "for time in time_steps:\n",
    "    data = []\n",
    "    # take a weighted average temperature across the polaron\n",
    "    for position in (np.linspace(1E-20,+polaron_radius,10)):\n",
    "        data.append(crank_diffusion_sphere(initial_temperature,polaron_radius,D,position,time))\n",
    "    w = np.multiply(np.linspace(0,+polaron_radius,10),np.linspace(0,+polaron_radius,10))\n",
    "    temp_MAPI.append(np.average(data,weights=w))\n"
   ]
  },
  {
   "cell_type": "code",
   "execution_count": null,
   "metadata": {
    "collapsed": false
   },
   "outputs": [],
   "source": [
    "## CdTe\n",
    "d = 6.48*Å\n",
    "molecular_weight = 240.01 # g/mole\n",
    "heat_capacity = 38.9  # J/mol/k, from experimental\n",
    "thermal_conductivity = 9  # W.m-1.k-1, taken from https://doi.org/10.1103/PhysRevB.94.220301\n",
    "D = diffusivity(thermal_conductivity,d,molecular_weight,heat_capacity)\n",
    "print (\"Diffusivity is %E\"%D)\n",
    "\n",
    "temp_CdTe = []\n",
    "for time in time_steps:\n",
    "    data = []\n",
    "    for position in (np.linspace(1E-20,+polaron_radius,10)):\n",
    "        data.append(crank_diffusion_sphere(initial_temperature,polaron_radius,D,position,time))\n",
    "    w = np.multiply(np.linspace(0,+polaron_radius,10),np.linspace(0,+polaron_radius,10))\n",
    "    temp_CdTe.append(np.average(data,weights=w))"
   ]
  },
  {
   "cell_type": "code",
   "execution_count": null,
   "metadata": {
    "collapsed": false
   },
   "outputs": [],
   "source": [
    "## GaAs\n",
    "d = 5.65*Å\n",
    "molecular_weight = 144.645 # g/mole\n",
    "heat_capacity = 47 # J/mol/K, from experimental\n",
    "thermal_conductivity = 38 # W.m-1.k-1, taken from https://doi.org/10.1103/PhysRevB.94.220301\n",
    "D = diffusivity(thermal_conductivity,d,molecular_weight,heat_capacity)\n",
    "print (\"Diffusivity is %E\"%D)\n",
    "\n",
    "temp_GaAs = []\n",
    "for time in time_steps:\n",
    "    data = []\n",
    "    for position in (np.linspace(1E-20,+polaron_radius,10)):\n",
    "        data.append(crank_diffusion_sphere(initial_temperature,polaron_radius,D,position,time))\n",
    "    w = np.multiply(np.linspace(0,+polaron_radius,10),np.linspace(0,+polaron_radius,10))\n",
    "    temp_GaAs.append(np.average(data,weights=w))"
   ]
  },
  {
   "cell_type": "code",
   "execution_count": null,
   "metadata": {
    "collapsed": false
   },
   "outputs": [],
   "source": [
    "## CsPbI3\n",
    "d = 6.29*Å \n",
    "molecular_weight = 720.82 # g/mole\n",
    "heat_capacity = 31 # J/mol/K, from phonon DOS\n",
    "thermal_conductivity = 0.5 # W.m-1.k-1, as calculated in the paper\n",
    "D = diffusivity(thermal_conductivity,d,molecular_weight,heat_capacity)\n",
    "print (\"Diffusivity is %E\"%D)\n",
    "\n",
    "temp_CsPbI3 = []\n",
    "for time in time_steps:\n",
    "    data = []\n",
    "    for position in (np.linspace(1E-20,+polaron_radius,10)):\n",
    "        data.append(crank_diffusion_sphere(initial_temperature,polaron_radius,D,position,time))\n",
    "    w = np.multiply(np.linspace(0,+polaron_radius,10),np.linspace(0,+polaron_radius,10))\n",
    "    temp_CsPbI3.append(np.average(data,weights=w))"
   ]
  },
  {
   "cell_type": "code",
   "execution_count": null,
   "metadata": {
    "collapsed": false
   },
   "outputs": [],
   "source": [
    "# PLOT\n",
    "fig = plt.figure(figsize=(10,10))\n",
    "plt.plot(time_steps/1E-12,temp_MAPI,color=\"#d62728\",ls=\"-\")#,linewidth=\"2\")\n",
    "plt.plot(time_steps/1E-12,temp_CsPbI3,color=\"purple\",ls=\"--\")\n",
    "plt.plot(time_steps/1E-12,temp_CdTe,color=\"#2ca02c\",ls=\":\")\n",
    "plt.plot(time_steps/1E-12,temp_GaAs,color=\"#1f77b4\",ls=\"-.\")\n",
    "plt.text(50.0,2.8,r\"Diffusivity $(\\mathrm{m}^2\\mathrm{s}^{-1})$\")\n",
    "plt.xlabel(\"Time (ps)\")\n",
    "plt.xlim([-1,380])\n",
    "plt.xticks([0,100,200,300])\n",
    "plt.ylabel(\"Temperature above bulk (K)\")\n",
    "plt.ylim([-0.05,3])\n",
    "plt.yticks([0,0.5,1,1.5,2,2.5])\n",
    "\n",
    "a = plt.axes(([.45, .25, .4, .3]))\n",
    "plt.plot(time_steps/1E-12,temp_MAPI,label=r\"$6.3\\times 10^{-8}$ (MAPI)\",color=\"#d62728\",ls=\"-\")#,linewidth=\"2\")\n",
    "plt.plot(time_steps/1E-12,temp_CsPbI3,label=r\"$2.4\\times 10^{-6}$ (CsPbI$_3$)\",color=\"purple\",ls=\"--\")\n",
    "plt.plot(time_steps/1E-12,temp_CdTe,label=r\"$3.8\\times 10^{-5}$ (CdTe)\",color=\"#2ca02c\",ls=\":\")#,linewidth=\"2\")\n",
    "plt.plot(time_steps/1E-12,temp_GaAs,label=r\"$8.8\\times 10^{-5}$ (GaAs)\",color=\"#1f77b4\",ls=\"-.\")#,linewidth=\"2\")\n",
    "plt.xlabel(\"Time (ps)\",fontsize=16)\n",
    "plt.xlim([0.01,1])\n",
    "plt.xticks([0.5,1.0])\n",
    "plt.ylabel(\"Temperature (K)\",fontsize=16)\n",
    "plt.legend(loc=(-0.6,1.08),frameon=False)\n",
    "\n",
    "plt.savefig(\"TempVsTime.png\",bbox_inches='tight',format=\"png\",dpi=500)"
   ]
  },
  {
   "cell_type": "markdown",
   "metadata": {},
   "source": [
    "### Calculate the exponential time constant for cooling"
   ]
  },
  {
   "cell_type": "code",
   "execution_count": null,
   "metadata": {
    "collapsed": false
   },
   "outputs": [],
   "source": [
    "# MAPI\n",
    "time_steps[temp_MAPI.index([t for t in temp_MAPI if t<(1/math.e)*initial_temperature  ][0])]/1E-12 # in ps"
   ]
  },
  {
   "cell_type": "code",
   "execution_count": null,
   "metadata": {
    "collapsed": false
   },
   "outputs": [],
   "source": [
    "# CsPbI3\n",
    "time_steps[temp_CsPbI3.index([t for t in temp_CsPbI3 if t<(1/math.e)*T  ][0])]/1E-12"
   ]
  },
  {
   "cell_type": "code",
   "execution_count": null,
   "metadata": {
    "collapsed": false
   },
   "outputs": [],
   "source": [
    "# GaAs\n",
    "time_steps[temp_GaAs.index([t for t in temp_GaAs if t<(1/math.e)*T  ][0])]/1E-12 "
   ]
  },
  {
   "cell_type": "code",
   "execution_count": null,
   "metadata": {
    "collapsed": false
   },
   "outputs": [],
   "source": [
    "# CdTe\n",
    "time_steps[temp_CdTe.index([t for t in temp_CdTe if t<(1/math.e)*T  ][0])]/1E-12 "
   ]
  }
 ],
 "metadata": {
  "kernelspec": {
   "display_name": "Python 3",
   "language": "python",
   "name": "python3"
  },
  "language_info": {
   "codemirror_mode": {
    "name": "ipython",
    "version": 3
   },
   "file_extension": ".py",
   "mimetype": "text/x-python",
   "name": "python",
   "nbconvert_exporter": "python",
   "pygments_lexer": "ipython3",
   "version": "3.5.2"
  }
 },
 "nbformat": 4,
 "nbformat_minor": 1
}
