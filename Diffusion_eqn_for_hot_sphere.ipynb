{
 "cells": [
  {
   "cell_type": "markdown",
   "metadata": {},
   "source": [
    "- We want to find an analytical expression for temperature as a function of position and time\n",
    "- We want to model radial heat flow from a hot sphere into an infinite solid. \n",
    "- Both the sphere (intial temperature $T=T_0$) and surrounding solid (initial temperature $T=0$) have diffusivity $D$. \n",
    "- The sphere has radius $R$. "
   ]
  },
  {
   "cell_type": "markdown",
   "metadata": {},
   "source": [
    "Following \"Heat conduction with engineering, geological and other applications\". L. R. Ingersoll, O. J. Zobel and A. C. Ingersoll. London (Thames and Hudson), 1948. 1st Edition, p.139.\n",
    "\n",
    "In the case of spherical symmetry\n",
    "$$ \\nabla^2T = \\frac{1}{r}\\frac{\\partial^2(rT)}{\\partial r^2}   $$\n",
    "    "
   ]
  },
  {
   "cell_type": "markdown",
   "metadata": {},
   "source": [
    "Substituting this into the fourier equation gives\n",
    "$$ \n",
    "\\begin{equation}\n",
    "\\begin{aligned}\n",
    "& \\frac{\\partial T}{\\partial t} = \\frac{D}{r}\\frac{\\delta^2(rT)}{\\delta r^2}, && T = f(r) \\text{ at } t=0\n",
    "\\end{aligned}\n",
    "\\end{equation}\n",
    "$$"
   ]
  },
  {
   "cell_type": "markdown",
   "metadata": {},
   "source": [
    "Substitute $u = rT$ to give\n",
    "$$ \n",
    "\\begin{equation}\n",
    "\\begin{aligned}\n",
    "& \\frac{\\partial u}{\\partial t} = D\\frac{\\delta^2(u)}{\\delta r^2}, && u = rf(r) \\text{ at } t=0, && u = 0 \\text{ at } r=0\n",
    "\\end{aligned}\n",
    "\\end{equation}\n",
    "$$"
   ]
  },
  {
   "cell_type": "markdown",
   "metadata": {},
   "source": [
    "This solution is equivalent to the case of linear flow with one face at zero. To solve, we imagine a distribution on $r$ which is equal to but the opposite sign of a distribution on $-r$. This initial distribution is convolved with a gaussian kernal to give temperature as a function of time $T$ and position $r$. \n",
    "$$ u = rT = \\frac{\\eta}{\\sqrt{\\pi}} \\bigg[ \\int_0^\\infty \\lambda f(\\lambda) e^{-(\\lambda-r)^2\\eta^2}\\delta \\lambda - \\int_0^\\infty \\lambda f(\\lambda) e^{-(\\lambda+r)^2\\eta^2}\\delta \\lambda \\bigg] $$\n",
    "where $\\eta = \\frac{1}{\\sqrt{4Dt}}$ and $\\lambda$ is a variable of integration.\n",
    "\n",
    "Now, still following [2], we recast the equation using definition for $\\beta$ and $\\beta'$ below\n",
    "\n",
    "\n",
    "\\begin{equation}\n",
    "\\begin{aligned}\n",
    "& \\beta \\equiv (\\lambda-r)\\eta, && \\lambda = \\frac{\\beta}{\\eta} + r \\\\\n",
    "& \\beta' \\equiv (\\lambda+r)\\eta, && \\lambda = \\frac{\\beta'}{\\eta} - r \n",
    "\\end{aligned}\n",
    "\\end{equation}\n",
    "$$\n",
    "T = \\frac{1}{r\\sqrt{\\pi}} \\bigg[ \\int^\\infty_{r \\eta}  \\left( \\frac{\\beta}{\\eta} + r\\right) f\\left( \\frac{\\beta}{\\eta} + r\\right)e^{-\\beta^2}\\delta \\beta - \\int^\\infty_{r \\eta}  \\left( \\frac{\\beta'}{\\eta} - r\\right) f\\left( \\frac{\\beta'}{\\eta} - r\\right)e^{-\\beta'^2} \\delta \\beta' \\bigg]\n",
    "$$"
   ]
  },
  {
   "cell_type": "markdown",
   "metadata": {},
   "source": [
    "For a sphere with $T=T_0$ and zero temperature beyond this\n",
    "$$\n",
    "T = \\frac{T_0}{r\\sqrt{\\pi}} \\bigg[ \\int^{(R-r)\\eta}_{-r \\eta}  \\left( \\frac{\\beta}{\\eta} + r\\right)e^{-\\beta^2}\\delta \\beta - \\int^{(R+r)\\eta}_{r \\eta}  \\left( \\frac{\\beta}{\\eta} - r\\right) e^{-\\beta^2} \\delta \\beta \\bigg]\n",
    "$$"
   ]
  },
  {
   "cell_type": "markdown",
   "metadata": {},
   "source": [
    "Using the integral identity\n",
    "$$ \\int \\beta e^{\\beta^2} = \\frac{1}{2}e^{\\beta^2} $$\n",
    "and the error function\n",
    "$$ erf(x) = \\int_0^x e^{-\\beta^2} \\delta \\beta $$\n",
    "we reach the final expression\n",
    "$$\n",
    "T = \\frac{T_0}{2} \\bigg[erf\\left((R-r)\\eta\\right) + erf((R+r)\\eta) \\bigg] - \\frac{T_0\\sqrt{Dt}}{r\\sqrt{\\pi}}\\left[ e^{-\\frac{(R-r)^2}{4Dt}} - e^{-\\frac{(R+r)^2}{4Dt}} \\right]$$"
   ]
  },
  {
   "cell_type": "markdown",
   "metadata": {},
   "source": [
    "\n",
    "                                        \n"
   ]
  },
  {
   "cell_type": "code",
   "execution_count": null,
   "metadata": {
    "collapsed": true
   },
   "outputs": [],
   "source": []
  }
 ],
 "metadata": {
  "kernelspec": {
   "display_name": "Python 3",
   "language": "python",
   "name": "python3"
  },
  "language_info": {
   "codemirror_mode": {
    "name": "ipython",
    "version": 3
   },
   "file_extension": ".py",
   "mimetype": "text/x-python",
   "name": "python",
   "nbconvert_exporter": "python",
   "pygments_lexer": "ipython3",
   "version": "3.5.2"
  }
 },
 "nbformat": 4,
 "nbformat_minor": 1
}
